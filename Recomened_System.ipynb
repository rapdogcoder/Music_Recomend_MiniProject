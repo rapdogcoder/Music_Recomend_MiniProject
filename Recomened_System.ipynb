{
  "nbformat": 4,
  "nbformat_minor": 0,
  "metadata": {
    "colab": {
      "name": "Recomened_System.ipynb",
      "provenance": [],
      "collapsed_sections": [
        "Wfl4k2oKyQxx"
      ],
      "authorship_tag": "ABX9TyM7yqWoDBzIH+Ai2JF1LzEn",
      "include_colab_link": true
    },
    "kernelspec": {
      "name": "python3",
      "display_name": "Python 3"
    },
    "language_info": {
      "name": "python"
    }
  },
  "cells": [
    {
      "cell_type": "markdown",
      "metadata": {
        "id": "view-in-github",
        "colab_type": "text"
      },
      "source": [
        "<a href=\"https://colab.research.google.com/github/rapdogcoder/Music_Recomend_MiniProject/blob/master/Recomened_System.ipynb\" target=\"_parent\"><img src=\"https://colab.research.google.com/assets/colab-badge.svg\" alt=\"Open In Colab\"/></a>"
      ]
    },
    {
      "cell_type": "code",
      "source": [
        ""
      ],
      "metadata": {
        "id": "PwlZSBBUyO_t"
      },
      "execution_count": null,
      "outputs": []
    },
    {
      "cell_type": "markdown",
      "source": [
        "# 데이터 불러오기"
      ],
      "metadata": {
        "id": "Wfl4k2oKyQxx"
      }
    },
    {
      "cell_type": "code",
      "source": [
        "from google.colab import drive\n",
        "drive.mount('/content/drive')"
      ],
      "metadata": {
        "colab": {
          "base_uri": "https://localhost:8080/"
        },
        "id": "nqwm7QJkl8S_",
        "outputId": "1a8e0c0b-b787-4076-fbe9-a902e3bfc959"
      },
      "execution_count": null,
      "outputs": [
        {
          "output_type": "stream",
          "name": "stdout",
          "text": [
            "Drive already mounted at /content/drive; to attempt to forcibly remount, call drive.mount(\"/content/drive\", force_remount=True).\n"
          ]
        }
      ]
    },
    {
      "cell_type": "code",
      "source": [
        "import pandas as pd\n",
        "from gensim.models import Word2Vec, FastText"
      ],
      "metadata": {
        "id": "SfPBurHybTy2"
      },
      "execution_count": null,
      "outputs": []
    },
    {
      "cell_type": "code",
      "source": [
        "train_data = pd.read_json('/content/drive/MyDrive/project_sesac/1주차(0810~0815)/장윤식/final_tag.json')"
      ],
      "metadata": {
        "id": "9DxjWJoZHDp3"
      },
      "execution_count": null,
      "outputs": []
    },
    {
      "cell_type": "code",
      "source": [
        "train_data['tags'] = train_data.tags.apply(lambda x : [ i for i in x if i != ''])"
      ],
      "metadata": {
        "id": "K84nCHUpVInp"
      },
      "execution_count": null,
      "outputs": []
    },
    {
      "cell_type": "code",
      "source": [
        "train_data['tags'] = train_data.tags.apply(lambda x : list(set(x)))"
      ],
      "metadata": {
        "id": "qTeJjeYYVwMp"
      },
      "execution_count": null,
      "outputs": []
    },
    {
      "cell_type": "code",
      "source": [
        "train_data['tags'] = train_data.tags.apply(lambda x : [ i.strip() for i in x])"
      ],
      "metadata": {
        "id": "9Poryul5Wmys"
      },
      "execution_count": null,
      "outputs": []
    },
    {
      "cell_type": "code",
      "source": [
        "train_data.to_json('/content/drive/MyDrive/project_sesac/1주차(0810~0815)/장윤식/final_tag.json')"
      ],
      "metadata": {
        "id": "qDxx_aNFVWEp"
      },
      "execution_count": null,
      "outputs": []
    },
    {
      "cell_type": "code",
      "source": [
        "train_data.info()"
      ],
      "metadata": {
        "colab": {
          "base_uri": "https://localhost:8080/"
        },
        "id": "edyPvgO4aLtb",
        "outputId": "a91b9f71-7eac-41a0-c8c2-647a2ce74b00"
      },
      "execution_count": null,
      "outputs": [
        {
          "output_type": "stream",
          "name": "stdout",
          "text": [
            "<class 'pandas.core.frame.DataFrame'>\n",
            "Int64Index: 110502 entries, 0 to 110501\n",
            "Data columns (total 8 columns):\n",
            " #   Column              Non-Null Count   Dtype \n",
            "---  ------              --------------   ----- \n",
            " 0   id                  110502 non-null  int64 \n",
            " 1   plylst_title        110502 non-null  object\n",
            " 2   tags                110502 non-null  object\n",
            " 3   tags_from_playlist  110502 non-null  object\n",
            " 4   final_tags          110502 non-null  object\n",
            " 5   genre_name          110502 non-null  object\n",
            " 6   genre_detail_name   110502 non-null  object\n",
            " 7   tags+from_playlist  110502 non-null  object\n",
            "dtypes: int64(1), object(7)\n",
            "memory usage: 11.6+ MB\n"
          ]
        }
      ]
    },
    {
      "cell_type": "code",
      "source": [
        "train_data.head(3)"
      ],
      "metadata": {
        "colab": {
          "base_uri": "https://localhost:8080/",
          "height": 309
        },
        "id": "cizzOirYaF6I",
        "outputId": "cd21824a-2552-416d-bad0-d8b142d5e136"
      },
      "execution_count": null,
      "outputs": [
        {
          "output_type": "execute_result",
          "data": {
            "text/plain": [
              "       id                         plylst_title  \\\n",
              "0  112336                   [헤어진 날] 꺼내 듣는 노래모음   \n",
              "1   61393    ○ 여행&드라이브 차안에서 함께들의면 기분좋아지는 리스트 ○   \n",
              "2  101019                # 추억의 댄스 가요(운동, 드라이브)   \n",
              "\n",
              "                                          tags  \\\n",
              "0    [날, 연인, 아픔, 헤어짐, 감성, 이별, 위로, 사랑, 가창력, 슬픔]   \n",
              "1  [의, 기분, 기분좋은음악, 드라이브, 여행, 여름, 여행, 차안, 드라이브]   \n",
              "2          [드라이브, 추억, 운동, 신나는, 명곡, 가요, 추억, 댄스]   \n",
              "\n",
              "                     tags_from_playlist  \\\n",
              "0                                 ['날']   \n",
              "1   ['여행',  '드라이브',  '차안',  '의',  '기분']   \n",
              "2  ['추억',  '댄스',  '가요',  '운동',  '드라이브']   \n",
              "\n",
              "                                          final_tags  \\\n",
              "0  [감성, 헤어짐, 위로, 연인, 슬픔, 아픔, 가창력, 사랑, 이별, 날, R&B/...   \n",
              "1  [기분좋은음악, 의, 여름, 기분, 여행, 드라이브, 차안, R&B/Soul, OS...   \n",
              "2  [신나는, 추억, 드라이브, 댄스, 가요, 운동, 명곡, 댄스, 아이돌, 랩/힙합,...   \n",
              "\n",
              "                                          genre_name  \\\n",
              "0                    [R&B/Soul, OST, 아이돌, 랩/힙합, 발라드]   \n",
              "1  [R&B/Soul, OST, 인디음악, 댄스, 아이돌, 발라드, 랩/힙합, 록/메탈...   \n",
              "2                   [댄스, 아이돌, 랩/힙합, 록/메탈, 발라드, 성인가요]   \n",
              "\n",
              "                                   genre_detail_name  \\\n",
              "0       [00, 10-, R&B, 국내드라마, 남자, 아이돌, 발라드, 보컬, 스타일]   \n",
              "1  [10-, R&B, 국내드라마, 록, 발라드, 보컬, 스타일, 어반, 언더그라운드,...   \n",
              "2  [00, 90, 남자, 아이돌, 댄스, 랩, 스타일, 랩/힙합, 보컬, 스타일, 신...   \n",
              "\n",
              "                     tags+from_playlist    score  \n",
              "0                                 ['날']  9.34519  \n",
              "1   ['여행',  '드라이브',  '차안',  '의',  '기분']  9.34519  \n",
              "2  ['추억',  '댄스',  '가요',  '운동',  '드라이브']  9.34519  "
            ],
            "text/html": [
              "\n",
              "  <div id=\"df-a4aa38bb-b892-471c-8486-93b69e410d54\">\n",
              "    <div class=\"colab-df-container\">\n",
              "      <div>\n",
              "<style scoped>\n",
              "    .dataframe tbody tr th:only-of-type {\n",
              "        vertical-align: middle;\n",
              "    }\n",
              "\n",
              "    .dataframe tbody tr th {\n",
              "        vertical-align: top;\n",
              "    }\n",
              "\n",
              "    .dataframe thead th {\n",
              "        text-align: right;\n",
              "    }\n",
              "</style>\n",
              "<table border=\"1\" class=\"dataframe\">\n",
              "  <thead>\n",
              "    <tr style=\"text-align: right;\">\n",
              "      <th></th>\n",
              "      <th>id</th>\n",
              "      <th>plylst_title</th>\n",
              "      <th>tags</th>\n",
              "      <th>tags_from_playlist</th>\n",
              "      <th>final_tags</th>\n",
              "      <th>genre_name</th>\n",
              "      <th>genre_detail_name</th>\n",
              "      <th>tags+from_playlist</th>\n",
              "      <th>score</th>\n",
              "    </tr>\n",
              "  </thead>\n",
              "  <tbody>\n",
              "    <tr>\n",
              "      <th>0</th>\n",
              "      <td>112336</td>\n",
              "      <td>[헤어진 날] 꺼내 듣는 노래모음</td>\n",
              "      <td>[날, 연인, 아픔, 헤어짐, 감성, 이별, 위로, 사랑, 가창력, 슬픔]</td>\n",
              "      <td>['날']</td>\n",
              "      <td>[감성, 헤어짐, 위로, 연인, 슬픔, 아픔, 가창력, 사랑, 이별, 날, R&amp;B/...</td>\n",
              "      <td>[R&amp;B/Soul, OST, 아이돌, 랩/힙합, 발라드]</td>\n",
              "      <td>[00, 10-, R&amp;B, 국내드라마, 남자, 아이돌, 발라드, 보컬, 스타일]</td>\n",
              "      <td>['날']</td>\n",
              "      <td>9.34519</td>\n",
              "    </tr>\n",
              "    <tr>\n",
              "      <th>1</th>\n",
              "      <td>61393</td>\n",
              "      <td>○ 여행&amp;드라이브 차안에서 함께들의면 기분좋아지는 리스트 ○</td>\n",
              "      <td>[의, 기분, 기분좋은음악, 드라이브, 여행, 여름, 여행, 차안, 드라이브]</td>\n",
              "      <td>['여행',  '드라이브',  '차안',  '의',  '기분']</td>\n",
              "      <td>[기분좋은음악, 의, 여름, 기분, 여행, 드라이브, 차안, R&amp;B/Soul, OS...</td>\n",
              "      <td>[R&amp;B/Soul, OST, 인디음악, 댄스, 아이돌, 발라드, 랩/힙합, 록/메탈...</td>\n",
              "      <td>[10-, R&amp;B, 국내드라마, 록, 발라드, 보컬, 스타일, 어반, 언더그라운드,...</td>\n",
              "      <td>['여행',  '드라이브',  '차안',  '의',  '기분']</td>\n",
              "      <td>9.34519</td>\n",
              "    </tr>\n",
              "    <tr>\n",
              "      <th>2</th>\n",
              "      <td>101019</td>\n",
              "      <td># 추억의 댄스 가요(운동, 드라이브)</td>\n",
              "      <td>[드라이브, 추억, 운동, 신나는, 명곡, 가요, 추억, 댄스]</td>\n",
              "      <td>['추억',  '댄스',  '가요',  '운동',  '드라이브']</td>\n",
              "      <td>[신나는, 추억, 드라이브, 댄스, 가요, 운동, 명곡, 댄스, 아이돌, 랩/힙합,...</td>\n",
              "      <td>[댄스, 아이돌, 랩/힙합, 록/메탈, 발라드, 성인가요]</td>\n",
              "      <td>[00, 90, 남자, 아이돌, 댄스, 랩, 스타일, 랩/힙합, 보컬, 스타일, 신...</td>\n",
              "      <td>['추억',  '댄스',  '가요',  '운동',  '드라이브']</td>\n",
              "      <td>9.34519</td>\n",
              "    </tr>\n",
              "  </tbody>\n",
              "</table>\n",
              "</div>\n",
              "      <button class=\"colab-df-convert\" onclick=\"convertToInteractive('df-a4aa38bb-b892-471c-8486-93b69e410d54')\"\n",
              "              title=\"Convert this dataframe to an interactive table.\"\n",
              "              style=\"display:none;\">\n",
              "        \n",
              "  <svg xmlns=\"http://www.w3.org/2000/svg\" height=\"24px\"viewBox=\"0 0 24 24\"\n",
              "       width=\"24px\">\n",
              "    <path d=\"M0 0h24v24H0V0z\" fill=\"none\"/>\n",
              "    <path d=\"M18.56 5.44l.94 2.06.94-2.06 2.06-.94-2.06-.94-.94-2.06-.94 2.06-2.06.94zm-11 1L8.5 8.5l.94-2.06 2.06-.94-2.06-.94L8.5 2.5l-.94 2.06-2.06.94zm10 10l.94 2.06.94-2.06 2.06-.94-2.06-.94-.94-2.06-.94 2.06-2.06.94z\"/><path d=\"M17.41 7.96l-1.37-1.37c-.4-.4-.92-.59-1.43-.59-.52 0-1.04.2-1.43.59L10.3 9.45l-7.72 7.72c-.78.78-.78 2.05 0 2.83L4 21.41c.39.39.9.59 1.41.59.51 0 1.02-.2 1.41-.59l7.78-7.78 2.81-2.81c.8-.78.8-2.07 0-2.86zM5.41 20L4 18.59l7.72-7.72 1.47 1.35L5.41 20z\"/>\n",
              "  </svg>\n",
              "      </button>\n",
              "      \n",
              "  <style>\n",
              "    .colab-df-container {\n",
              "      display:flex;\n",
              "      flex-wrap:wrap;\n",
              "      gap: 12px;\n",
              "    }\n",
              "\n",
              "    .colab-df-convert {\n",
              "      background-color: #E8F0FE;\n",
              "      border: none;\n",
              "      border-radius: 50%;\n",
              "      cursor: pointer;\n",
              "      display: none;\n",
              "      fill: #1967D2;\n",
              "      height: 32px;\n",
              "      padding: 0 0 0 0;\n",
              "      width: 32px;\n",
              "    }\n",
              "\n",
              "    .colab-df-convert:hover {\n",
              "      background-color: #E2EBFA;\n",
              "      box-shadow: 0px 1px 2px rgba(60, 64, 67, 0.3), 0px 1px 3px 1px rgba(60, 64, 67, 0.15);\n",
              "      fill: #174EA6;\n",
              "    }\n",
              "\n",
              "    [theme=dark] .colab-df-convert {\n",
              "      background-color: #3B4455;\n",
              "      fill: #D2E3FC;\n",
              "    }\n",
              "\n",
              "    [theme=dark] .colab-df-convert:hover {\n",
              "      background-color: #434B5C;\n",
              "      box-shadow: 0px 1px 3px 1px rgba(0, 0, 0, 0.15);\n",
              "      filter: drop-shadow(0px 1px 2px rgba(0, 0, 0, 0.3));\n",
              "      fill: #FFFFFF;\n",
              "    }\n",
              "  </style>\n",
              "\n",
              "      <script>\n",
              "        const buttonEl =\n",
              "          document.querySelector('#df-a4aa38bb-b892-471c-8486-93b69e410d54 button.colab-df-convert');\n",
              "        buttonEl.style.display =\n",
              "          google.colab.kernel.accessAllowed ? 'block' : 'none';\n",
              "\n",
              "        async function convertToInteractive(key) {\n",
              "          const element = document.querySelector('#df-a4aa38bb-b892-471c-8486-93b69e410d54');\n",
              "          const dataTable =\n",
              "            await google.colab.kernel.invokeFunction('convertToInteractive',\n",
              "                                                     [key], {});\n",
              "          if (!dataTable) return;\n",
              "\n",
              "          const docLinkHtml = 'Like what you see? Visit the ' +\n",
              "            '<a target=\"_blank\" href=https://colab.research.google.com/notebooks/data_table.ipynb>data table notebook</a>'\n",
              "            + ' to learn more about interactive tables.';\n",
              "          element.innerHTML = '';\n",
              "          dataTable['output_type'] = 'display_data';\n",
              "          await google.colab.output.renderOutput(dataTable, element);\n",
              "          const docLink = document.createElement('div');\n",
              "          docLink.innerHTML = docLinkHtml;\n",
              "          element.appendChild(docLink);\n",
              "        }\n",
              "      </script>\n",
              "    </div>\n",
              "  </div>\n",
              "  "
            ]
          },
          "metadata": {},
          "execution_count": 209
        }
      ]
    },
    {
      "cell_type": "code",
      "source": [
        "train_data.tags = train_data.tags.apply(lambda x : [ word.replace(\"'\",'') for word in x])"
      ],
      "metadata": {
        "id": "6fG2kqdONkcX"
      },
      "execution_count": null,
      "outputs": []
    },
    {
      "cell_type": "markdown",
      "source": [
        "#word2vec 학습"
      ],
      "metadata": {
        "id": "pvTnTx2Pyjhi"
      }
    },
    {
      "cell_type": "code",
      "source": [
        "word2vec = Word2Vec(window=5, min_count=1,workers=5,sg=1)\n",
        "word2vec.build_vocab(train_data.tags.values)\n",
        "word2vec.train(train_data.tags.values, total_examples=len(train_data.tags.values), epochs=10)"
      ],
      "metadata": {
        "colab": {
          "base_uri": "https://localhost:8080/"
        },
        "id": "Zqjv48E0HeYV",
        "outputId": "e51d5b1a-4e35-45cc-d1f3-d76e4d0172e5"
      },
      "execution_count": null,
      "outputs": [
        {
          "output_type": "execute_result",
          "data": {
            "text/plain": [
              "(6005905, 7592970)"
            ]
          },
          "metadata": {},
          "execution_count": 102
        }
      ]
    },
    {
      "cell_type": "markdown",
      "source": [
        "#추천시스템 구현"
      ],
      "metadata": {
        "id": "jhcX1XUqyuAB"
      }
    },
    {
      "cell_type": "code",
      "source": [
        "word2vec.wv.save('/content/drive/MyDrive/project_sesac/2주차(0816~0819)/장윤식/keyword_model')"
      ],
      "metadata": {
        "id": "5Ze70b4DSOha"
      },
      "execution_count": null,
      "outputs": []
    },
    {
      "cell_type": "code",
      "source": [
        "keyword = word2vec.wv.load('/content/drive/MyDrive/project_sesac/2주차(0816~0819)/장윤식/keyword_model')"
      ],
      "metadata": {
        "id": "68MSk5yqTt82"
      },
      "execution_count": null,
      "outputs": []
    },
    {
      "cell_type": "code",
      "source": [
        "keyword = word2vec.wv.most_similar(\"아픔\",topn=20)\n",
        "keyword"
      ],
      "metadata": {
        "colab": {
          "base_uri": "https://localhost:8080/"
        },
        "id": "1o6DXd50LyYI",
        "outputId": "138503df-856f-4064-ef44-0846239c05a2"
      },
      "execution_count": null,
      "outputs": [
        {
          "output_type": "execute_result",
          "data": {
            "text/plain": [
              "[('실연', 0.9429439306259155),\n",
              " ('흔적', 0.9398995637893677),\n",
              " ('아픈', 0.9381399154663086),\n",
              " ('헤어짐', 0.9371567368507385),\n",
              " ('후폭풍', 0.9330560564994812),\n",
              " ('보고싶다', 0.9329738020896912),\n",
              " ('이별후에_들으면_공감되는노래', 0.9324887990951538),\n",
              " ('다툼', 0.9298324584960938),\n",
              " ('전여친', 0.9293535947799683),\n",
              " ('헤어진후에', 0.9293449521064758),\n",
              " ('이별하고', 0.9282656908035278),\n",
              " ('이별감성', 0.9229108095169067),\n",
              " ('미련', 0.9220988750457764),\n",
              " ('보고싶을때', 0.920102059841156),\n",
              " ('그리워', 0.9189916253089905),\n",
              " ('가슴아픈', 0.9152098894119263),\n",
              " ('보고싶은', 0.9148403406143188),\n",
              " ('이별후에_듣는노래', 0.9144657850265503),\n",
              " ('오열', 0.9132537841796875),\n",
              " ('아득한', 0.9131773710250854)]"
            ]
          },
          "metadata": {},
          "execution_count": 228
        }
      ]
    },
    {
      "cell_type": "code",
      "source": [
        "keyword = dict(keyword)"
      ],
      "metadata": {
        "id": "XZBB2wnOlXK_"
      },
      "execution_count": null,
      "outputs": []
    },
    {
      "cell_type": "code",
      "source": [
        "def keyword_count(keys,_list):\n",
        "  _dict = {key : 0 for key in keys}\n",
        "  for i in _list:\n",
        "    if i in _dict:\n",
        "      _dict[i] += 1\n",
        "    else :\n",
        "      continue\n",
        "  return _dict"
      ],
      "metadata": {
        "id": "MlH51xd5dkNo"
      },
      "execution_count": null,
      "outputs": []
    },
    {
      "cell_type": "code",
      "source": [
        "def dict_value_sum(score_dict,_list):\n",
        "  sum_num = 0\n",
        "  for i in score_dict.keys():\n",
        "    if i in _list:\n",
        "      sum_num += score_dict[i]\n",
        "    else :\n",
        "      continue\n",
        "  return sum_num"
      ],
      "metadata": {
        "id": "I2gnftWqlgzf"
      },
      "execution_count": null,
      "outputs": []
    },
    {
      "cell_type": "code",
      "source": [
        "def make_score (df):\n",
        "  df['count'] = df.tags.apply(lambda x : keyword_count(keyword,x))\n",
        "  df['score']= df.tags.apply(lambda x : dict_value_sum(keyword,x))\n",
        "  sort_df = df.sort_values('score',ascending=False)\n",
        "  return sort_df"
      ],
      "metadata": {
        "id": "V271exwkwGvB"
      },
      "execution_count": null,
      "outputs": []
    },
    {
      "cell_type": "code",
      "source": [
        "sort_train_data = make_score(train_data)"
      ],
      "metadata": {
        "id": "G0NeT1bcn6Zi"
      },
      "execution_count": null,
      "outputs": []
    },
    {
      "cell_type": "code",
      "source": [
        "sort_train_data.iloc[:5].index"
      ],
      "metadata": {
        "colab": {
          "base_uri": "https://localhost:8080/"
        },
        "id": "k6BkLNPYhw06",
        "outputId": "e0ffe8d6-228a-4d97-b7b0-886658040811"
      },
      "execution_count": null,
      "outputs": [
        {
          "output_type": "execute_result",
          "data": {
            "text/plain": [
              "Int64Index([32000, 33643, 84067, 15415, 26997], dtype='int64')"
            ]
          },
          "metadata": {},
          "execution_count": 244
        }
      ]
    }
  ]
}