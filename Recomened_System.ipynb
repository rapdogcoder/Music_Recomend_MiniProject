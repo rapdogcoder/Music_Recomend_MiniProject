{
  "nbformat": 4,
  "nbformat_minor": 0,
  "metadata": {
    "colab": {
      "name": "Recommend_system_proto.ipynb",
      "provenance": [],
      "authorship_tag": "ABX9TyN7WhbUHN3iRtDeuV72qk6V",
      "include_colab_link": true
    },
    "kernelspec": {
      "name": "python3",
      "display_name": "Python 3"
    },
    "language_info": {
      "name": "python"
    }
  },
  "cells": [
    {
      "cell_type": "markdown",
      "metadata": {
        "id": "view-in-github",
        "colab_type": "text"
      },
      "source": [
        "<a href=\"https://colab.research.google.com/github/rapdogcoder/Music_Recomend_MiniProject/blob/master/Recomened_System.ipynb\" target=\"_parent\"><img src=\"https://colab.research.google.com/assets/colab-badge.svg\" alt=\"Open In Colab\"/></a>"
      ]
    },
    {
      "cell_type": "code",
      "execution_count": 1,
      "metadata": {
        "colab": {
          "base_uri": "https://localhost:8080/"
        },
        "id": "VQXmQdmfhb42",
        "outputId": "a586f784-2ce2-422c-9463-3bc40ea2507a"
      },
      "outputs": [
        {
          "output_type": "stream",
          "name": "stdout",
          "text": [
            "Mounted at /content/drive\n"
          ]
        }
      ],
      "source": [
        "from google.colab import drive\n",
        "drive.mount('/content/drive')"
      ]
    },
    {
      "cell_type": "code",
      "source": [
        "import pandas as pd\n",
        "from gensim.models import Word2Vec, FastText"
      ],
      "metadata": {
        "id": "IkqBEwTzjPRB"
      },
      "execution_count": 2,
      "outputs": []
    },
    {
      "cell_type": "code",
      "source": [
        "tag_df = pd.read_json('/content/drive/MyDrive/project_sesac/unique_tags.json')"
      ],
      "metadata": {
        "id": "iam_Nq5CG3jy"
      },
      "execution_count": 13,
      "outputs": []
    },
    {
      "cell_type": "code",
      "source": [
        "tag_df"
      ],
      "metadata": {
        "colab": {
          "base_uri": "https://localhost:8080/",
          "height": 424
        },
        "id": "-L_ekAv4HALE",
        "outputId": "0dab2a18-43d2-45e3-ffad-a9e22aa01365"
      },
      "execution_count": null,
      "outputs": [
        {
          "output_type": "execute_result",
          "data": {
            "text/plain": [
              "        song_id  \\\n",
              "0             0   \n",
              "1             3   \n",
              "2             4   \n",
              "3             5   \n",
              "4             6   \n",
              "...         ...   \n",
              "615133   707984   \n",
              "615134   707985   \n",
              "615135   707986   \n",
              "615136   707987   \n",
              "615137   707988   \n",
              "\n",
              "                                                        song_name  \\\n",
              "0                                                        Feelings   \n",
              "1       Feeling Right (Everything Is Nice) (Feat. Popcaan & Wale)   \n",
              "2                                                         그남자 그여자   \n",
              "3                                             Para Los Enamorados   \n",
              "4           Sibelius : Valse Triste Op.44 (시벨리우스 : 슬픈 왈츠 작품번호 44)   \n",
              "...                                                           ...   \n",
              "615133                                   Coffin For Head Of State   \n",
              "615134                                            Change Of Heart   \n",
              "615135                                                     스치듯 안녕   \n",
              "615136                                                       숲의 빛   \n",
              "615137                                               Queen 명곡 멜로디   \n",
              "\n",
              "                                                                          final_tags_chk  \n",
              "0                                                                          [POP, 2000년대]  \n",
              "1                                                               [Matoma, 일렉트로니카, 2000년대]  \n",
              "2                         [픽, 2000년대, 프로, 아웃, 듀스, 데뷔, 발판, 시즌, 뉴에이지, Jude Law, 장만, 이지리스닝]  \n",
              "3                                                  [재즈, 2000년대, Bye, Lupita, 겨울, 안뇽, 소식]  \n",
              "4       [San Francisco Symphony, 조깅, 운동, 2000년대, 관현악, 교향/관현악, 클래식, Herbert Blomstedt, 때]  \n",
              "...                                                                                  ...  \n",
              "615133                                                           [월드뮤직, Fela Kuti, 90년대]  \n",
              "615134                                                         [POP, 80년대, Cyndi Lauper]  \n",
              "615135                                                          [발라드, '10-, 윤종신, 2000년대]  \n",
              "615136                                               [컴필레이션, 뉴에이지, Nature Piano, 2000년대]  \n",
              "615137                                                            [김경호, '90, 록/메탈, 90년대]  \n",
              "\n",
              "[615138 rows x 3 columns]"
            ],
            "text/html": [
              "\n",
              "  <div id=\"df-e05dd6b4-5124-4f2d-b3e6-e98252f855c0\">\n",
              "    <div class=\"colab-df-container\">\n",
              "      <div>\n",
              "<style scoped>\n",
              "    .dataframe tbody tr th:only-of-type {\n",
              "        vertical-align: middle;\n",
              "    }\n",
              "\n",
              "    .dataframe tbody tr th {\n",
              "        vertical-align: top;\n",
              "    }\n",
              "\n",
              "    .dataframe thead th {\n",
              "        text-align: right;\n",
              "    }\n",
              "</style>\n",
              "<table border=\"1\" class=\"dataframe\">\n",
              "  <thead>\n",
              "    <tr style=\"text-align: right;\">\n",
              "      <th></th>\n",
              "      <th>song_id</th>\n",
              "      <th>song_name</th>\n",
              "      <th>final_tags_chk</th>\n",
              "    </tr>\n",
              "  </thead>\n",
              "  <tbody>\n",
              "    <tr>\n",
              "      <th>0</th>\n",
              "      <td>0</td>\n",
              "      <td>Feelings</td>\n",
              "      <td>[POP, 2000년대]</td>\n",
              "    </tr>\n",
              "    <tr>\n",
              "      <th>1</th>\n",
              "      <td>3</td>\n",
              "      <td>Feeling Right (Everything Is Nice) (Feat. Popcaan &amp; Wale)</td>\n",
              "      <td>[Matoma, 일렉트로니카, 2000년대]</td>\n",
              "    </tr>\n",
              "    <tr>\n",
              "      <th>2</th>\n",
              "      <td>4</td>\n",
              "      <td>그남자 그여자</td>\n",
              "      <td>[픽, 2000년대, 프로, 아웃, 듀스, 데뷔, 발판, 시즌, 뉴에이지, Jude Law, 장만, 이지리스닝]</td>\n",
              "    </tr>\n",
              "    <tr>\n",
              "      <th>3</th>\n",
              "      <td>5</td>\n",
              "      <td>Para Los Enamorados</td>\n",
              "      <td>[재즈, 2000년대, Bye, Lupita, 겨울, 안뇽, 소식]</td>\n",
              "    </tr>\n",
              "    <tr>\n",
              "      <th>4</th>\n",
              "      <td>6</td>\n",
              "      <td>Sibelius : Valse Triste Op.44 (시벨리우스 : 슬픈 왈츠 작품번호 44)</td>\n",
              "      <td>[San Francisco Symphony, 조깅, 운동, 2000년대, 관현악, 교향/관현악, 클래식, Herbert Blomstedt, 때]</td>\n",
              "    </tr>\n",
              "    <tr>\n",
              "      <th>...</th>\n",
              "      <td>...</td>\n",
              "      <td>...</td>\n",
              "      <td>...</td>\n",
              "    </tr>\n",
              "    <tr>\n",
              "      <th>615133</th>\n",
              "      <td>707984</td>\n",
              "      <td>Coffin For Head Of State</td>\n",
              "      <td>[월드뮤직, Fela Kuti, 90년대]</td>\n",
              "    </tr>\n",
              "    <tr>\n",
              "      <th>615134</th>\n",
              "      <td>707985</td>\n",
              "      <td>Change Of Heart</td>\n",
              "      <td>[POP, 80년대, Cyndi Lauper]</td>\n",
              "    </tr>\n",
              "    <tr>\n",
              "      <th>615135</th>\n",
              "      <td>707986</td>\n",
              "      <td>스치듯 안녕</td>\n",
              "      <td>[발라드, '10-, 윤종신, 2000년대]</td>\n",
              "    </tr>\n",
              "    <tr>\n",
              "      <th>615136</th>\n",
              "      <td>707987</td>\n",
              "      <td>숲의 빛</td>\n",
              "      <td>[컴필레이션, 뉴에이지, Nature Piano, 2000년대]</td>\n",
              "    </tr>\n",
              "    <tr>\n",
              "      <th>615137</th>\n",
              "      <td>707988</td>\n",
              "      <td>Queen 명곡 멜로디</td>\n",
              "      <td>[김경호, '90, 록/메탈, 90년대]</td>\n",
              "    </tr>\n",
              "  </tbody>\n",
              "</table>\n",
              "<p>615138 rows × 3 columns</p>\n",
              "</div>\n",
              "      <button class=\"colab-df-convert\" onclick=\"convertToInteractive('df-e05dd6b4-5124-4f2d-b3e6-e98252f855c0')\"\n",
              "              title=\"Convert this dataframe to an interactive table.\"\n",
              "              style=\"display:none;\">\n",
              "        \n",
              "  <svg xmlns=\"http://www.w3.org/2000/svg\" height=\"24px\"viewBox=\"0 0 24 24\"\n",
              "       width=\"24px\">\n",
              "    <path d=\"M0 0h24v24H0V0z\" fill=\"none\"/>\n",
              "    <path d=\"M18.56 5.44l.94 2.06.94-2.06 2.06-.94-2.06-.94-.94-2.06-.94 2.06-2.06.94zm-11 1L8.5 8.5l.94-2.06 2.06-.94-2.06-.94L8.5 2.5l-.94 2.06-2.06.94zm10 10l.94 2.06.94-2.06 2.06-.94-2.06-.94-.94-2.06-.94 2.06-2.06.94z\"/><path d=\"M17.41 7.96l-1.37-1.37c-.4-.4-.92-.59-1.43-.59-.52 0-1.04.2-1.43.59L10.3 9.45l-7.72 7.72c-.78.78-.78 2.05 0 2.83L4 21.41c.39.39.9.59 1.41.59.51 0 1.02-.2 1.41-.59l7.78-7.78 2.81-2.81c.8-.78.8-2.07 0-2.86zM5.41 20L4 18.59l7.72-7.72 1.47 1.35L5.41 20z\"/>\n",
              "  </svg>\n",
              "      </button>\n",
              "      \n",
              "  <style>\n",
              "    .colab-df-container {\n",
              "      display:flex;\n",
              "      flex-wrap:wrap;\n",
              "      gap: 12px;\n",
              "    }\n",
              "\n",
              "    .colab-df-convert {\n",
              "      background-color: #E8F0FE;\n",
              "      border: none;\n",
              "      border-radius: 50%;\n",
              "      cursor: pointer;\n",
              "      display: none;\n",
              "      fill: #1967D2;\n",
              "      height: 32px;\n",
              "      padding: 0 0 0 0;\n",
              "      width: 32px;\n",
              "    }\n",
              "\n",
              "    .colab-df-convert:hover {\n",
              "      background-color: #E2EBFA;\n",
              "      box-shadow: 0px 1px 2px rgba(60, 64, 67, 0.3), 0px 1px 3px 1px rgba(60, 64, 67, 0.15);\n",
              "      fill: #174EA6;\n",
              "    }\n",
              "\n",
              "    [theme=dark] .colab-df-convert {\n",
              "      background-color: #3B4455;\n",
              "      fill: #D2E3FC;\n",
              "    }\n",
              "\n",
              "    [theme=dark] .colab-df-convert:hover {\n",
              "      background-color: #434B5C;\n",
              "      box-shadow: 0px 1px 3px 1px rgba(0, 0, 0, 0.15);\n",
              "      filter: drop-shadow(0px 1px 2px rgba(0, 0, 0, 0.3));\n",
              "      fill: #FFFFFF;\n",
              "    }\n",
              "  </style>\n",
              "\n",
              "      <script>\n",
              "        const buttonEl =\n",
              "          document.querySelector('#df-e05dd6b4-5124-4f2d-b3e6-e98252f855c0 button.colab-df-convert');\n",
              "        buttonEl.style.display =\n",
              "          google.colab.kernel.accessAllowed ? 'block' : 'none';\n",
              "\n",
              "        async function convertToInteractive(key) {\n",
              "          const element = document.querySelector('#df-e05dd6b4-5124-4f2d-b3e6-e98252f855c0');\n",
              "          const dataTable =\n",
              "            await google.colab.kernel.invokeFunction('convertToInteractive',\n",
              "                                                     [key], {});\n",
              "          if (!dataTable) return;\n",
              "\n",
              "          const docLinkHtml = 'Like what you see? Visit the ' +\n",
              "            '<a target=\"_blank\" href=https://colab.research.google.com/notebooks/data_table.ipynb>data table notebook</a>'\n",
              "            + ' to learn more about interactive tables.';\n",
              "          element.innerHTML = '';\n",
              "          dataTable['output_type'] = 'display_data';\n",
              "          await google.colab.output.renderOutput(dataTable, element);\n",
              "          const docLink = document.createElement('div');\n",
              "          docLink.innerHTML = docLinkHtml;\n",
              "          element.appendChild(docLink);\n",
              "        }\n",
              "      </script>\n",
              "    </div>\n",
              "  </div>\n",
              "  "
            ]
          },
          "metadata": {},
          "execution_count": 213
        }
      ]
    },
    {
      "cell_type": "code",
      "source": [
        "# word2vec = Word2Vec(window=3,min_count=0,workers=5,sg=1)\n",
        "# word2vec.build_vocab(tag_df.final_tags_chk.values)\n",
        "# word2vec.train(tag_df.final_tags_chk.values, total_examples=len(tag_df.final_tags_chk.values), epochs=10)"
      ],
      "metadata": {
        "colab": {
          "base_uri": "https://localhost:8080/"
        },
        "id": "0UcEENgWG26A",
        "outputId": "e2dbf43b-9c31-444b-f671-d44eed8d88d2"
      },
      "execution_count": null,
      "outputs": [
        {
          "output_type": "execute_result",
          "data": {
            "text/plain": [
              "(16703611, 28571050)"
            ]
          },
          "metadata": {},
          "execution_count": 237
        }
      ]
    },
    {
      "cell_type": "code",
      "source": [
        "# Word2Vec().wv.save('/content/drive/MyDrive/project_sesac/2주차(0816~0819)/장윤식/keyword_model_final')"
      ],
      "metadata": {
        "id": "YYBEJTARHPXR"
      },
      "execution_count": null,
      "outputs": []
    },
    {
      "cell_type": "code",
      "source": [
        "keyword_model = Word2Vec().wv.load('/content/drive/MyDrive/project_sesac/3주차(0820~0829)/조경희/word2vec_tag')"
      ],
      "metadata": {
        "id": "lLVxdXw9Lezt"
      },
      "execution_count": 8,
      "outputs": []
    },
    {
      "cell_type": "code",
      "source": [
        "word = input(\"입력해주세요 : \")\n",
        "keyword = keyword_model.wv.most_similar(word,topn=len(keyword_model.vocab))\n",
        "keyword = dict(keyword)\n",
        "keyword[word] = 1"
      ],
      "metadata": {
        "colab": {
          "base_uri": "https://localhost:8080/"
        },
        "id": "3CxY6lS2jfgz",
        "outputId": "1b53d74a-b792-480c-e0e6-0b42e9ea4a1c"
      },
      "execution_count": 9,
      "outputs": [
        {
          "name": "stdout",
          "output_type": "stream",
          "text": [
            "입력해주세요 : 헬스\n"
          ]
        },
        {
          "output_type": "stream",
          "name": "stderr",
          "text": [
            "/usr/local/lib/python3.7/dist-packages/ipykernel_launcher.py:2: DeprecationWarning: Call to deprecated `wv` (Attribute will be removed in 4.0.0, use self instead).\n",
            "  \n"
          ]
        }
      ]
    },
    {
      "cell_type": "code",
      "source": [
        "# def keyword_count(keys,_list):\n",
        "#   _dict = {key : 0 for key in keys}\n",
        "#   for i in _list:\n",
        "#     if i in _dict:\n",
        "#       _dict[i] += 1\n",
        "#     else :\n",
        "#       continue\n",
        "#   return _dict"
      ],
      "metadata": {
        "id": "_VSiapaaj0rB"
      },
      "execution_count": null,
      "outputs": []
    },
    {
      "cell_type": "code",
      "source": [
        "# def dict_value_sum(score_dict,_list):\n",
        "#   sum_num = 0\n",
        "#     for i in score_dict.keys():\n",
        "#     if i in _list:\n",
        "#       sum_num += score_dict[i]\n",
        "#     else :\n",
        "#       continue\n",
        "#   return sum_num"
      ],
      "metadata": {
        "id": "Nqv19px1j1nO"
      },
      "execution_count": null,
      "outputs": []
    },
    {
      "cell_type": "code",
      "source": [
        "# def make_score (df):\n",
        "#   df['count'] = df.final_tags.apply(lambda x : keyword_count(keyword,x))\n",
        "#   df['score']= df.final_tags.apply(lambda x : dict_value_sum(keyword,x))\n",
        "#   sort_df = df.sort_values('score',ascending=False)\n",
        "#   return sort_df"
      ],
      "metadata": {
        "id": "zOh0qlEJj5Je"
      },
      "execution_count": null,
      "outputs": []
    },
    {
      "cell_type": "code",
      "source": [
        "def make_score_new(_dict,_list):\n",
        "  temp = []\n",
        "\n",
        "  for i in _list:\n",
        "      temp.append(_dict[i])\n",
        "  try:\n",
        "    score = sum(temp)/(len(temp))\n",
        "  except:\n",
        "    score = 0\n",
        "  return score"
      ],
      "metadata": {
        "id": "Xx66oNbwpQhW"
      },
      "execution_count": 10,
      "outputs": []
    },
    {
      "cell_type": "code",
      "source": [
        "def make_score_column(_dict,df):\n",
        "  df['score'] = df.final_tags_chk.apply(lambda x : make_score_new(_dict,x))\n",
        "  sort_df = df.sort_values('score',ascending=False)\n",
        "  return sort_df"
      ],
      "metadata": {
        "id": "TJ1YTcUexI_C"
      },
      "execution_count": 11,
      "outputs": []
    },
    {
      "cell_type": "code",
      "source": [
        "pd.set_option('display.max_rows', 100)   # 항상 100개만 출력\n",
        "pd.set_option('display.max_columns', 10)   # 항상 10개만 출력"
      ],
      "metadata": {
        "id": "UWJEGMQjxh5F"
      },
      "execution_count": null,
      "outputs": []
    },
    {
      "cell_type": "code",
      "source": [
        "test = make_score_column(keyword,tag_df)"
      ],
      "metadata": {
        "id": "Ud-oWMTclAE-"
      },
      "execution_count": 14,
      "outputs": []
    },
    {
      "cell_type": "code",
      "source": [
        "song_id = test['song_id'].iloc[0]"
      ],
      "metadata": {
        "id": "bWjfG0oK7OuB"
      },
      "execution_count": 15,
      "outputs": []
    },
    {
      "cell_type": "code",
      "source": [
        "play_list_model = Word2Vec().wv.load('/content/drive/MyDrive/project_sesac/3주차(0820~0829)/장윤식/word2vec_playlist')"
      ],
      "metadata": {
        "id": "rSHZhYu7CKRz"
      },
      "execution_count": 3,
      "outputs": []
    },
    {
      "cell_type": "code",
      "source": [
        "song_meta = pd.read_json('/content/drive/MyDrive/project_sesac/data/song_meta.json')"
      ],
      "metadata": {
        "id": "4FmHCpyjCa5U"
      },
      "execution_count": 16,
      "outputs": []
    },
    {
      "cell_type": "code",
      "source": [
        "similar_song = play_list_model.wv.most_similar(str(song_id), topn=20)\n",
        "song_num = [(int(i[0].strip())) for i in similar_song]\n",
        "song_meta.loc[song_num].song_name"
      ],
      "metadata": {
        "colab": {
          "base_uri": "https://localhost:8080/"
        },
        "id": "cyRN6PP4Gdef",
        "outputId": "ab620412-a954-4d56-9179-465f7508ccef"
      },
      "execution_count": 18,
      "outputs": [
        {
          "output_type": "stream",
          "name": "stderr",
          "text": [
            "/usr/local/lib/python3.7/dist-packages/ipykernel_launcher.py:1: DeprecationWarning: Call to deprecated `wv` (Attribute will be removed in 4.0.0, use self instead).\n",
            "  \"\"\"Entry point for launching an IPython kernel.\n"
          ]
        },
        {
          "output_type": "execute_result",
          "data": {
            "text/plain": [
              "307286                            Just One Of The Guys\n",
              "359760                       You & I (Big Payno Remix)\n",
              "63039     Running Out Of Time (Feat. DMC) (Radio Ver.)\n",
              "13508                                  Until It`s Gone\n",
              "232522                               Sumthin` Sumthin`\n",
              "88365                                       I Want You\n",
              "316034                                      Dear River\n",
              "572723                                            Aha!\n",
              "297907                                          Lights\n",
              "109281                            Mecklenburg Co. Jail\n",
              "45004                  Kings Of The World (Radio Edit)\n",
              "641046                                        Platinum\n",
              "625270                Take Me To Church (Hozier Cover)\n",
              "699084                                        Suitcase\n",
              "531181                                    Already Gone\n",
              "251079                                       Afterlife\n",
              "311894                                       Boomerang\n",
              "342294                            Nothing From Nothing\n",
              "78604                                     Fleeting One\n",
              "117988                                        Que Sera\n",
              "Name: song_name, dtype: object"
            ]
          },
          "metadata": {},
          "execution_count": 18
        }
      ]
    }
  ]
}