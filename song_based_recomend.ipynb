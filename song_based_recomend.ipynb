{
  "nbformat": 4,
  "nbformat_minor": 0,
  "metadata": {
    "colab": {
      "name": "song_based_recomend.ipynb",
      "provenance": [],
      "mount_file_id": "1XOubt89WdAWOpX3Sku3qBS71pDmTfM7L",
      "authorship_tag": "ABX9TyP5e1NW3LK8gXn1NLjo6cG4",
      "include_colab_link": true
    },
    "kernelspec": {
      "name": "python3",
      "display_name": "Python 3"
    },
    "language_info": {
      "name": "python"
    }
  },
  "cells": [
    {
      "cell_type": "markdown",
      "metadata": {
        "id": "view-in-github",
        "colab_type": "text"
      },
      "source": [
        "<a href=\"https://colab.research.google.com/github/rapdogcoder/Music_Recomend_MiniProject/blob/master/song_based_recomend.ipynb\" target=\"_parent\"><img src=\"https://colab.research.google.com/assets/colab-badge.svg\" alt=\"Open In Colab\"/></a>"
      ]
    },
    {
      "cell_type": "code",
      "execution_count": 1,
      "metadata": {
        "id": "jc5vvAdArVNJ"
      },
      "outputs": [],
      "source": [
        "import pandas as pd\n",
        "import matplotlib.pyplot as plt\n",
        "from gensim.models.word2vec import Word2Vec"
      ]
    },
    {
      "cell_type": "code",
      "source": [
        "df = pd.read_json('/content/drive/MyDrive/data/카카오아레나_멜론/final_tag.json')"
      ],
      "metadata": {
        "id": "hKGRtdfVsURQ"
      },
      "execution_count": 2,
      "outputs": []
    },
    {
      "cell_type": "code",
      "source": [
        "song_meta = pd.read_json('/content/drive/MyDrive/data/song_meta1.json')"
      ],
      "metadata": {
        "id": "rmDe-cznwNNP"
      },
      "execution_count": 8,
      "outputs": []
    },
    {
      "cell_type": "code",
      "source": [
        "import re\n",
        "df['final_tags'] = df.final_tags.apply(lambda x : [re.sub(\"\\n\",\"\",word) for word in x ])"
      ],
      "metadata": {
        "id": "r0Em1TnpsVgr"
      },
      "execution_count": 3,
      "outputs": []
    },
    {
      "cell_type": "code",
      "source": [
        "train_3 = pd.read_csv('/content/drive/MyDrive/data/카카오아레나_멜론/train_3.csv',index_col=0)\n",
        "\n",
        "train_3['songs']= train_3.songs.apply(lambda x : x[1:-1].split(','))"
      ],
      "metadata": {
        "id": "PvRykxUxsm1s"
      },
      "execution_count": 7,
      "outputs": []
    },
    {
      "cell_type": "code",
      "source": [
        "word2vec = Word2Vec(window=5, min_count=1,workers=5,sg=1)\n",
        "word2vec.build_vocab(train_3.songs.values)\n",
        "word2vec.train(train_3.songs.values, total_examples=len(train_3.songs.values), epochs=10)"
      ],
      "metadata": {
        "colab": {
          "base_uri": "https://localhost:8080/"
        },
        "id": "lH0NmSg2sjPe",
        "outputId": "0a4de6a3-8fdf-49e2-c1a5-9b9d354be345"
      },
      "execution_count": 5,
      "outputs": [
        {
          "output_type": "execute_result",
          "data": {
            "text/plain": [
              "(51884700, 51884700)"
            ]
          },
          "metadata": {},
          "execution_count": 5
        }
      ]
    },
    {
      "cell_type": "code",
      "source": [
        "similar_song = word2vec.wv.most_similar('426753', topn=20)\n",
        "song_num = [(int(i[0].strip())) for i in similar_song]\n",
        "song_meta.loc[song_num].song_name"
      ],
      "metadata": {
        "colab": {
          "base_uri": "https://localhost:8080/"
        },
        "id": "o-RceC7ivW3A",
        "outputId": "9289065d-4ca0-493f-e404-a3d9b56d034a"
      },
      "execution_count": 9,
      "outputs": [
        {
          "output_type": "execute_result",
          "data": {
            "text/plain": [
              "618763                                        꿈속에\n",
              "147844                                     흔들리는 봄\n",
              "344456                                     소나기 왈츠\n",
              "418560                                     안아도 좋아\n",
              "356881                             Shall We Dance\n",
              "439815                                 이별을 글로 배워서\n",
              "405635                                비를 좋아하는 너에게\n",
              "314886                                  촌스런게 먹힐 것\n",
              "59142                                          전언\n",
              "278272    사랑의 한가운데 (Feat. 선우정아) (2016 Remastered)\n",
              "609285                                   그댄 내맘 몰라\n",
              "528258                                     나의 이상형\n",
              "405251                            AAA (Feat. 릴보이)\n",
              "544258                    희망고문 With 김윤주 (of 옥상달빛)\n",
              "589826                                     느낌이 좋아\n",
              "162820                                     둘만의 노래\n",
              "135940                                     Song A\n",
              "701448                            Ha~ (Feat. 임규환)\n",
              "237832                                  I Believe\n",
              "8706                                   나무에 걸린 물고기\n",
              "Name: song_name, dtype: object"
            ]
          },
          "metadata": {},
          "execution_count": 9
        }
      ]
    }
  ]
}