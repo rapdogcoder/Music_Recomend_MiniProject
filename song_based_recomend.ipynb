{
  "nbformat": 4,
  "nbformat_minor": 0,
  "metadata": {
    "colab": {
      "name": "song_based_recomend.ipynb",
      "provenance": [],
      "collapsed_sections": [],
      "include_colab_link": true
    },
    "kernelspec": {
      "name": "python3",
      "display_name": "Python 3"
    },
    "language_info": {
      "name": "python"
    }
  },
  "cells": [
    {
      "cell_type": "markdown",
      "metadata": {
        "id": "view-in-github",
        "colab_type": "text"
      },
      "source": [
        "<a href=\"https://colab.research.google.com/github/rapdogcoder/Music_Recomend_MiniProject/blob/master/song_based_recomend.ipynb\" target=\"_parent\"><img src=\"https://colab.research.google.com/assets/colab-badge.svg\" alt=\"Open In Colab\"/></a>"
      ]
    },
    {
      "cell_type": "code",
      "execution_count": 1,
      "metadata": {
        "id": "jc5vvAdArVNJ"
      },
      "outputs": [],
      "source": [
        "import pandas as pd\n",
        "import matplotlib.pyplot as plt\n",
        "from gensim.models.word2vec import Word2Vec"
      ]
    },
    {
      "cell_type": "code",
      "source": [
        "from google.colab import drive\n",
        "drive.mount('/content/drive')"
      ],
      "metadata": {
        "colab": {
          "base_uri": "https://localhost:8080/"
        },
        "id": "DGWXwEm-r_or",
        "outputId": "c96d1b56-a0cc-4a0c-ab07-3c7280594e53"
      },
      "execution_count": 2,
      "outputs": [
        {
          "output_type": "stream",
          "name": "stdout",
          "text": [
            "Mounted at /content/drive\n"
          ]
        }
      ]
    },
    {
      "cell_type": "code",
      "source": [
        "df = pd.read_json('/content/drive/MyDrive/project_sesac/data/train.json')"
      ],
      "metadata": {
        "id": "hKGRtdfVsURQ"
      },
      "execution_count": 4,
      "outputs": []
    },
    {
      "cell_type": "code",
      "source": [
        "song_meta = pd.read_json('/content/drive/MyDrive/project_sesac/data/song_meta.json')"
      ],
      "metadata": {
        "id": "rmDe-cznwNNP"
      },
      "execution_count": 5,
      "outputs": []
    },
    {
      "cell_type": "code",
      "source": [
        "df_songs = df.songs.apply(lambda x : [ str(i).lstrip() for i in x])"
      ],
      "metadata": {
        "id": "kkEQZOcwMXpJ"
      },
      "execution_count": 29,
      "outputs": []
    },
    {
      "cell_type": "code",
      "source": [
        "word2vec = Word2Vec(window=3, min_count=0,workers=5,sg=1)\n",
        "word2vec.build_vocab(df_songs.values)\n",
        "word2vec.train(df_songs.values, total_examples=len(df_songs.values), epochs=10)"
      ],
      "metadata": {
        "colab": {
          "base_uri": "https://localhost:8080/"
        },
        "id": "lH0NmSg2sjPe",
        "outputId": "30bfaf56-2540-4b9c-e275-220c2583675e"
      },
      "execution_count": 30,
      "outputs": [
        {
          "output_type": "execute_result",
          "data": {
            "text/plain": [
              "(52858710, 52858710)"
            ]
          },
          "metadata": {},
          "execution_count": 30
        }
      ]
    },
    {
      "cell_type": "code",
      "source": [
        "word2vec.wv.save('/content/drive/MyDrive/project_sesac/3주차(0820~0829)/장윤식/word2vec_playlist')"
      ],
      "metadata": {
        "id": "X7fnzZ769c4e"
      },
      "execution_count": 31,
      "outputs": []
    },
    {
      "cell_type": "code",
      "source": [
        "song_meta.loc[426753]"
      ],
      "metadata": {
        "colab": {
          "base_uri": "https://localhost:8080/"
        },
        "id": "sZTBbhQIuRiT",
        "outputId": "96650c7d-72c8-4bb2-d1b4-fddb1c7f6f25"
      },
      "execution_count": null,
      "outputs": [
        {
          "output_type": "execute_result",
          "data": {
            "text/plain": [
              "song_gn_dtl_gnr_basket    [GN0805, GN0501, GN0502, GN0801, GN0509]\n",
              "issue_date                                                20160716\n",
              "album_name                             4th Album `Sweet chemistry`\n",
              "album_id                                                   2698178\n",
              "artist_id_basket                                          [305169]\n",
              "song_name                                        Rompecabezas (퍼즐)\n",
              "song_gn_gnr_basket                                [GN0500, GN0800]\n",
              "artist_name_basket                                      [바닐라 어쿠스틱]\n",
              "id                                                          426753\n",
              "Name: 426753, dtype: object"
            ]
          },
          "metadata": {},
          "execution_count": 13
        }
      ]
    },
    {
      "cell_type": "code",
      "source": [
        "similar_song = word2vec.wv.most_similar('426753', topn=20)\n",
        "song_num = [(int(i[0].strip())) for i in similar_song]\n",
        "song_meta.loc[song_num].song_name "
      ],
      "metadata": {
        "colab": {
          "base_uri": "https://localhost:8080/"
        },
        "id": "o-RceC7ivW3A",
        "outputId": "13c48b4f-4fb6-4cfd-f5e6-717ad5afbd71"
      },
      "execution_count": null,
      "outputs": [
        {
          "output_type": "execute_result",
          "data": {
            "text/plain": [
              "167943                             평행선 (Feat. 미묘)\n",
              "693256                                     뜻밖의 여정\n",
              "353664                                          밤\n",
              "701448                            Ha~ (Feat. 임규환)\n",
              "567299                                    가까운 이상형\n",
              "528258                                     나의 이상형\n",
              "544258                    희망고문 With 김윤주 (of 옥상달빛)\n",
              "499718                                      Relax\n",
              "22784                                      피곤한 주말\n",
              "29188                    내가, 네가 (Remastered Ver.)\n",
              "439815                                 이별을 글로 배워서\n",
              "507905                                      마리와 나\n",
              "438275                     위로의 밤 (Feat. 민지, J.Fe)\n",
              "278272    사랑의 한가운데 (Feat. 선우정아) (2016 Remastered)\n",
              "359171                                   읽히지 않는 책\n",
              "370305                                       새벽더위\n",
              "591746                                    온기가 남았네\n",
              "277376                             열대야 (Feat. 다인)\n",
              "188167                                         호구\n",
              "51844                          Fall in Love Again\n",
              "Name: song_name, dtype: object"
            ]
          },
          "metadata": {},
          "execution_count": 14
        }
      ]
    },
    {
      "cell_type": "code",
      "source": [
        "word2vec.save(\"/content/drive/MyDrive/project_sesac/2주차(0816~0819)/장윤식/word2vec.model\")"
      ],
      "metadata": {
        "id": "wjeZSnYj3huL"
      },
      "execution_count": null,
      "outputs": []
    }
  ]
}